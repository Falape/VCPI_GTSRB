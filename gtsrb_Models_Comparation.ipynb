{
 "cells": [
  {
   "cell_type": "code",
   "execution_count": 46,
   "metadata": {},
   "outputs": [],
   "source": [
    "import tensorflow as tf\n",
    "from tensorflow import keras\n",
    "from tensorflow.keras import metrics\n",
    "from tensorflow.keras.callbacks import ModelCheckpoint, EarlyStopping,TensorBoard, ReduceLROnPlateau\n",
    "from tensorflow.keras.layers import Dense, Dropout, Activation, Flatten, Conv2D, MaxPooling2D\n",
    "from tensorflow.keras.layers import BatchNormalization, LeakyReLU \n",
    "from tensorflow.keras.models import Sequential\n",
    "from tensorflow.keras.optimizers import Adam\n",
    "\n",
    "import os\n",
    "import numpy as np\n",
    "\n",
    "# plotting\n",
    "import matplotlib.pyplot as plt\n",
    "import pathlib\n",
    "from PIL import Image\n",
    "import IPython.display as display\n",
    "\n",
    "# to display confusion matrix\n",
    "import seaborn as sn\n",
    "import pandas as pd"
   ]
  },
  {
   "cell_type": "code",
   "execution_count": 47,
   "metadata": {},
   "outputs": [],
   "source": [
    "def get_label(file_path):\n",
    "  # convert the path to a list of path components\n",
    "  parts = tf.strings.split(file_path, os.path.sep)\n",
    "  # The second to last is the class-directory\n",
    "  return parts[-2] == classNames\n",
    "\n",
    "def decode_img(img):\n",
    "  # convert the compressed string to a 3D uint8 tensor\n",
    "  img = tf.image.decode_png(img, channels=3)\n",
    "  # Use `convert_image_dtype` to convert to floats in the [0,1] range.\n",
    "  img = tf.image.convert_image_dtype(img, tf.float32)\n",
    "  # resize the image to the desired size.\n",
    "  return tf.image.resize(img, [WIDTH, HEIGHT])\n",
    "\n",
    "\n",
    "def get_bytes_and_label(file_path):\n",
    "  label = get_label(file_path)\n",
    "  # load the raw data from the file as a string\n",
    "  img = tf.io.read_file(file_path)\n",
    "  img = decode_img(img)\n",
    "  return img, label\n"
   ]
  },
  {
   "cell_type": "code",
   "execution_count": 48,
   "metadata": {},
   "outputs": [],
   "source": [
    "def show_accuracies(labels, test): \n",
    "\n",
    "    fig, ax = plt.subplots()\n",
    "    print(test)\n",
    "    X = np.arange(len(test))\n",
    "    nova = []\n",
    "    for lista in test:\n",
    "        nova.append(lista[1])\n",
    "    print(nova)\n",
    "    #plt.figure(figsize=(20,15))\n",
    "    plt.bar(X, nova, width = 0.4, color = 'b', label='test')\n",
    "    #plt.bar(X + 0.4, val, color = 'r', width = 0.4, label = \"val\")\n",
    "    plt.xticks(X + 0.4 / 2, labels)\n",
    "    plt.ylim(top = 1.0, bottom = 0.97)\n",
    "    plt.legend(loc='upper left')\n",
    "    plt.show()   "
   ]
  },
  {
   "cell_type": "code",
   "execution_count": 49,
   "metadata": {},
   "outputs": [
    {
     "name": "stdout",
     "output_type": "stream",
     "text": [
      "Num GPUs Avasilable:  1\n"
     ]
    }
   ],
   "source": [
    "physical_devices = tf.config.experimental.list_physical_devices('GPU')\n",
    "print(\"Num GPUs Avasilable: \", len(physical_devices))\n",
    "tf.config.experimental.set_memory_growth(physical_devices[0], True)"
   ]
  },
  {
   "cell_type": "code",
   "execution_count": 50,
   "metadata": {},
   "outputs": [],
   "source": [
    "pathTrain = 'GTSRB_TP/train_images'\n",
    "#pathTrainBalance = 'GTSRB_TP/train_images'\n",
    "pathTest = 'GTSRB_TP/test_images'"
   ]
  },
  {
   "cell_type": "code",
   "execution_count": 51,
   "metadata": {},
   "outputs": [
    {
     "name": "stdout",
     "output_type": "stream",
     "text": [
      "['00013' '00025' '00003' '00028' '00035' '00026' '00036' '00027' '00001'\n",
      " '00019' '00020' '00042' '00002' '00038' '00021' '00024' '00034' '00029'\n",
      " '00033' '00006' '00041' '00017' '00030' '00009' '00040' '00000' '00004'\n",
      " '00015' '00008' '00012' '00016' '00037' '00022' '00039' '00010' '00031'\n",
      " '00005' '00011' '00023' '00018' '00014' '00032' '00007']\n"
     ]
    }
   ],
   "source": [
    "BATCH_SIZE = 64\n",
    "HEIGHT = 32\n",
    "WIDTH = 32\n",
    "AUTOTUNE = tf.data.experimental.AUTOTUNE\n",
    "#Classes names\n",
    "data_dir = pathlib.Path(pathTrain)\n",
    "classNames = np.array(os.listdir(data_dir))\n",
    "print(classNames)"
   ]
  },
  {
   "cell_type": "code",
   "execution_count": 52,
   "metadata": {},
   "outputs": [],
   "source": [
    "trained_models = ['TrainModels/noAugmentation.ckpt', 'TrainModels/noAugmentation_Balance.ckpt', 'TrainModels/static_Augmentation.ckpt', 'TrainModels/static_Augmentation_balance.ckpt', 'TrainModels/static_Augmentation_B.ckpt','TrainModels/Dynamic_Augmentation.ckpt', 'TrainModels/Massive_Augmentation.ckpt']\n",
    "numers = [0, 1, 2, 3, 4,5, 6]"
   ]
  },
  {
   "cell_type": "code",
   "execution_count": 53,
   "metadata": {},
   "outputs": [],
   "source": [
    "listset = tf.data.Dataset.list_files(pathTest+\"/*/*.png\")\n",
    "test_Data = listset.map(get_bytes_and_label, num_parallel_calls = AUTOTUNE)"
   ]
  },
  {
   "cell_type": "code",
   "execution_count": 54,
   "metadata": {},
   "outputs": [],
   "source": [
    "test_Data = test_Data.batch(batch_size = BATCH_SIZE)"
   ]
  },
  {
   "cell_type": "code",
   "execution_count": 55,
   "metadata": {},
   "outputs": [],
   "source": [
    "model = Sequential()\n",
    "\n",
    "model.add(Conv2D(128, (5, 5),\n",
    "                    input_shape=(32, 32, 3)))         \n",
    "model.add(LeakyReLU(alpha=0.01))  \n",
    "model.add(BatchNormalization())\n",
    "model.add(Dropout(0.5)) \n",
    "\n",
    "model.add(Conv2D(196, (5, 5) )) \n",
    "model.add(LeakyReLU(alpha=0.01))\n",
    "model.add(MaxPooling2D(pool_size=(2, 2)))\n",
    "model.add(BatchNormalization())\n",
    "model.add(Dropout(0.5)) \n",
    "\n",
    "model.add(Conv2D(256, (5, 5) ) )   \n",
    "model.add(LeakyReLU(alpha=0.01))\n",
    "model.add(MaxPooling2D(pool_size=(2, 2)))\n",
    "model.add(BatchNormalization())\n",
    "model.add(Dropout(0.5)) \n",
    "\n",
    "model.add(Flatten())\n",
    "model.add(LeakyReLU(alpha=0.0)) \n",
    "model.add(Dense(384))\n",
    "model.add(LeakyReLU(alpha=0.0))             \n",
    "model.add(Dropout(0.5)) \n",
    "\n",
    "model.add(Dense(43, activation='softmax'))\n",
    "\n",
    "\n",
    "opt = Adam(learning_rate=0.0001)\n",
    "\n",
    "model.compile(optimizer = opt, loss='categorical_crossentropy', metrics=[ 'accuracy'])"
   ]
  },
  {
   "cell_type": "code",
   "execution_count": 56,
   "metadata": {},
   "outputs": [
    {
     "name": "stdout",
     "output_type": "stream",
     "text": [
      "TrainModels/noAugmentation.ckpt\n",
      "198/198 - 5s - loss: 0.0735 - accuracy: 0.9789 - 5s/epoch - 26ms/step\n",
      "TrainModels/noAugmentation_Balance.ckpt\n",
      "198/198 - 5s - loss: 0.0462 - accuracy: 0.9906 - 5s/epoch - 26ms/step\n",
      "TrainModels/static_Augmentation.ckpt\n",
      "198/198 - 5s - loss: 0.0384 - accuracy: 0.9878 - 5s/epoch - 25ms/step\n",
      "TrainModels/static_Augmentation_balance.ckpt\n",
      "198/198 - 5s - loss: 0.0630 - accuracy: 0.9862 - 5s/epoch - 25ms/step\n",
      "TrainModels/static_Augmentation_B.ckpt\n",
      "198/198 - 5s - loss: 0.0801 - accuracy: 0.9808 - 5s/epoch - 25ms/step\n",
      "TrainModels/Dynamic_Augmentation.ckpt\n",
      "198/198 - 5s - loss: 0.0418 - accuracy: 0.9873 - 5s/epoch - 25ms/step\n",
      "TrainModels/Massive_Augmentation.ckpt\n",
      "198/198 - 5s - loss: 0.0236 - accuracy: 0.9937 - 5s/epoch - 25ms/step\n"
     ]
    }
   ],
   "source": [
    "modelsloaded = []\n",
    "for i in range(len(trained_models)):\n",
    "    print(trained_models[i])\n",
    "    model.load_weights(trained_models[i])\n",
    "    modelsloaded.append(model.evaluate(test_Data, verbose=2))\n",
    "\n"
   ]
  },
  {
   "cell_type": "code",
   "execution_count": 57,
   "metadata": {},
   "outputs": [
    {
     "name": "stdout",
     "output_type": "stream",
     "text": [
      "[[0.07347549498081207, 0.9788598418235779], [0.0462486669421196, 0.9905779957771301], [0.03843856602907181, 0.9878067970275879], [0.0629824846982956, 0.9862232804298401], [0.08010955899953842, 0.9808392524719238], [0.04175510257482529, 0.9872525930404663], [0.023584410548210144, 0.993665874004364]]\n",
      "[0.9788598418235779, 0.9905779957771301, 0.9878067970275879, 0.9862232804298401, 0.9808392524719238, 0.9872525930404663, 0.993665874004364]\n"
     ]
    },
    {
     "data": {
      "image/png": "[encoded data removed]",
      "text/plain": [
       "<Figure size 432x288 with 1 Axes>"
      ]
     },
     "metadata": {
      "needs_background": "light"
     },
     "output_type": "display_data"
    }
   ],
   "source": [
    "show_accuracies(numers, modelsloaded)"
   ]
  },
  {
   "cell_type": "code",
   "execution_count": null,
   "metadata": {},
   "outputs": [],
   "source": []
  }
 ],
 "metadata": {
  "interpreter": {
   "hash": "916dbcbb3f70747c44a77c7bcd40155683ae19c65e1c03b4aa3499c5328201f1"
  },
  "kernelspec": {
   "display_name": "Python 3.10.4 64-bit",
   "language": "python",
   "name": "python3"
  },
  "language_info": {
   "codemirror_mode": {
    "name": "ipython",
    "version": 3
   },
   "file_extension": ".py",
   "mimetype": "text/x-python",
   "name": "python",
   "nbconvert_exporter": "python",
   "pygments_lexer": "ipython3",
   "version": "3.10.4"
  },
  "orig_nbformat": 4
 },
 "nbformat": 4,
 "nbformat_minor": 2
}
