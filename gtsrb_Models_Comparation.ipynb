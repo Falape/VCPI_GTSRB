{
 "cells": [
  {
   "cell_type": "code",
   "execution_count": null,
   "metadata": {},
   "outputs": [],
   "source": [
    "show_accuracies(['V1', 'V2', 'V3'], [evalV1[1], evalV2[1], evalV3[1]], [valV1[1], valV2[1], valV3[1]])"
   ]
  },
  {
   "cell_type": "code",
   "execution_count": null,
   "metadata": {},
   "outputs": [],
   "source": [
    "numpy_labels = []\n",
    "numpy_images = []\n",
    "pred = []\n",
    "\n",
    "for images, labels in testset.take(-1):  # take all batches of dataset\n",
    "    numpy_images.extend(images.numpy())\n",
    "    numpy_labels.extend(labels.numpy())\n",
    "    pred.extend(modelV3.predict(images.numpy()))\n",
    "\n",
    "\n",
    "show_misclassified(pred, numpy_labels, numpy_images, int((4170 - 4170*.9933)/3 + 1))"
   ]
  },
  {
   "cell_type": "code",
   "execution_count": null,
   "metadata": {},
   "outputs": [],
   "source": [
    "all_labels = [np.argmax(x) for x in numpy_labels]\n",
    "all_preds = [np.argmax(x) for x in pred]\n",
    "    \n",
    "conf_mat = tf.math.confusion_matrix(all_labels, all_preds)\n",
    "\n",
    "show_confusion_matrix(conf_mat.numpy(), 8)"
   ]
  }
 ],
 "metadata": {
  "language_info": {
   "name": "python"
  },
  "orig_nbformat": 4
 },
 "nbformat": 4,
 "nbformat_minor": 2
}
